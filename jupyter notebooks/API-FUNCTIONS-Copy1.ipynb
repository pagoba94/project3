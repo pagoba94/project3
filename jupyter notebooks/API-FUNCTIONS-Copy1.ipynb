{
 "cells": [
  {
   "cell_type": "code",
   "execution_count": 1,
   "id": "5c26e0cc",
   "metadata": {},
   "outputs": [],
   "source": [
    "from getpass import getpass\n",
    "from dotenv import load_dotenv\n",
    "import pandas as pd\n",
    "import requests\n",
    "import os\n",
    "import folium\n",
    "import pandas as pd\n",
    "import matplotlib.pyplot as plt"
   ]
  },
  {
   "cell_type": "code",
   "execution_count": 2,
   "id": "17ee3ce2",
   "metadata": {},
   "outputs": [],
   "source": [
    "def foursquare_access():\n",
    "    load_dotenv()\n",
    "    token = os.getenv(\"token\")\n",
    "    return token"
   ]
  },
  {
   "cell_type": "code",
   "execution_count": 3,
   "id": "05f92094",
   "metadata": {},
   "outputs": [],
   "source": [
    "def category_from_foursquare (lat, lon, category):\n",
    "\n",
    "    url = f\"https://api.foursquare.com/v3/places/search?&ll={lon}%2C{lat}&categories={category}&sort=DISTANCE&limit=1\"\n",
    "    \n",
    "    headers = {\n",
    "        \"accept\": \"application/json\",\n",
    "        \"Authorization\": token\n",
    "    }\n",
    "\n",
    "    response = requests.get(url, headers=headers).json()\n",
    "    return response"
   ]
  },
  {
   "cell_type": "code",
   "execution_count": 4,
   "id": "5ee8b3a6",
   "metadata": {},
   "outputs": [],
   "source": [
    "def query_from_foursquare (query, lat, lon):\n",
    "    \n",
    "    url = f\"https://api.foursquare.com/v3/places/search?query={query}&ll={lon}%2C{lat}&sort=DISTANCE&limit=1\"\n",
    "\n",
    "    headers = {\n",
    "        \"accept\": \"application/json\",\n",
    "        \"Authorization\": token\n",
    "    }\n",
    "\n",
    "    response = requests.get(url, headers=headers).json()\n",
    "    return response"
   ]
  },
  {
   "cell_type": "code",
   "execution_count": 5,
   "id": "e3a98d81",
   "metadata": {},
   "outputs": [],
   "source": [
    "def everything_from_foursquare (one_element, data):\n",
    "\n",
    "    name = one_element[\"name\"]\n",
    "    lat = one_element[\"geocodes\"][\"main\"][\"latitude\"]\n",
    "    lon = one_element[\"geocodes\"][\"main\"][\"longitude\"]\n",
    "    distance = one_element[\"distance\"]\n",
    "    \n",
    "    dict_ = {\"name\": name, \"latitude\": lat, \"longitude\": lon, \"data\": data, \"distance\": distance}\n",
    "    \n",
    "    return dict_"
   ]
  },
  {
   "cell_type": "code",
   "execution_count": 6,
   "id": "c05a9f56",
   "metadata": {},
   "outputs": [],
   "source": [
    "def df_foursquare(df, lat, lon, city):\n",
    "    \n",
    "    category_dict={\"Airport\": \"19040\", \"Preschool\":\"12056\", \"Primary and Secondary School\":\"12057\", \"Train Station\":\"19046\",\n",
    "                   \"Night Clubs\":\"10032\", \"Vegan Restaurant\":\"13377\", \"Basketball Stadium\":\"18008\"}\n",
    "    \n",
    "    query_list=[\"Starbucks\",\"Dog Grooming\"]\n",
    "    \n",
    "        \n",
    "    for key, value in category_dict.items():\n",
    "        response=category_from_foursquare(lon, lat, value)\n",
    "        new_list = []\n",
    "        for i in response[\"results\"]:\n",
    "            new_list.append(everything_from_foursquare (i, key))\n",
    "\n",
    "        df1 = pd.DataFrame(new_list)\n",
    "        df = pd.concat([df, df1])\n",
    "                \n",
    "                \n",
    "    for query in query_list:\n",
    "        response=query_from_foursquare (query,lon, lat)\n",
    "        new_list = []\n",
    "        for i in response[\"results\"]:\n",
    "            new_list.append(everything_from_foursquare (i, query))\n",
    "\n",
    "        df1 = pd.DataFrame(new_list)\n",
    "        df = pd.concat([df, df1])    \n",
    "    \n",
    "    if city == \"London\":\n",
    "        df.loc[len(df)] = [\"Jessica's Dog Grooming\", \"51.5141844\", \"-0.1863357\", \"Dog Grooming\", 1500.0]\n",
    "    \n",
    "    df['city'] = city\n",
    "    \n",
    "    df.reset_index(drop=True, inplace=True)\n",
    "    \n",
    "    return df"
   ]
  },
  {
   "cell_type": "code",
   "execution_count": null,
   "id": "38019d03",
   "metadata": {},
   "outputs": [],
   "source": []
  },
  {
   "cell_type": "code",
   "execution_count": 7,
   "id": "086680ce",
   "metadata": {},
   "outputs": [],
   "source": [
    "token = foursquare_access()"
   ]
  },
  {
   "cell_type": "code",
   "execution_count": 8,
   "id": "21efb817",
   "metadata": {},
   "outputs": [
    {
     "ename": "ValueError",
     "evalue": "cannot set a row with mismatched columns",
     "output_type": "error",
     "traceback": [
      "\u001b[1;31m---------------------------------------------------------------------------\u001b[0m",
      "\u001b[1;31mValueError\u001b[0m                                Traceback (most recent call last)",
      "Cell \u001b[1;32mIn[8], line 6\u001b[0m\n\u001b[0;32m      3\u001b[0m df_sf\u001b[38;5;241m.\u001b[39mto_csv(\u001b[38;5;124m\"\u001b[39m\u001b[38;5;124m../dataframes/df_sanfrancisco.csv\u001b[39m\u001b[38;5;124m\"\u001b[39m, index\u001b[38;5;241m=\u001b[39m\u001b[38;5;28;01mFalse\u001b[39;00m)\n\u001b[0;32m      5\u001b[0m df_lon \u001b[38;5;241m=\u001b[39m pd\u001b[38;5;241m.\u001b[39mread_csv(\u001b[38;5;124m\"\u001b[39m\u001b[38;5;124m../dataframes/df_london.csv\u001b[39m\u001b[38;5;124m\"\u001b[39m)\n\u001b[1;32m----> 6\u001b[0m df_lon \u001b[38;5;241m=\u001b[39m \u001b[43mdf_foursquare\u001b[49m\u001b[43m(\u001b[49m\u001b[43mdf_lon\u001b[49m\u001b[43m,\u001b[49m\u001b[43m \u001b[49m\u001b[38;5;124;43m\"\u001b[39;49m\u001b[38;5;124;43m51.513248\u001b[39;49m\u001b[38;5;124;43m\"\u001b[39;49m\u001b[43m,\u001b[49m\u001b[38;5;124;43m'\u001b[39;49m\u001b[38;5;124;43m-0.154738\u001b[39;49m\u001b[38;5;124;43m'\u001b[39;49m\u001b[43m,\u001b[49m\u001b[43m \u001b[49m\u001b[38;5;124;43m\"\u001b[39;49m\u001b[38;5;124;43mLondon\u001b[39;49m\u001b[38;5;124;43m\"\u001b[39;49m\u001b[43m)\u001b[49m\n\u001b[0;32m      7\u001b[0m df_lon\u001b[38;5;241m.\u001b[39mto_csv(\u001b[38;5;124m\"\u001b[39m\u001b[38;5;124m../dataframes/df_london.csv\u001b[39m\u001b[38;5;124m\"\u001b[39m, index\u001b[38;5;241m=\u001b[39m\u001b[38;5;28;01mFalse\u001b[39;00m)\n\u001b[0;32m      9\u001b[0m df_nyc \u001b[38;5;241m=\u001b[39m pd\u001b[38;5;241m.\u001b[39mread_csv(\u001b[38;5;124m\"\u001b[39m\u001b[38;5;124m../dataframes/df_newyork.csv\u001b[39m\u001b[38;5;124m\"\u001b[39m)\n",
      "Cell \u001b[1;32mIn[6], line 29\u001b[0m, in \u001b[0;36mdf_foursquare\u001b[1;34m(df, lat, lon, city)\u001b[0m\n\u001b[0;32m     26\u001b[0m     df \u001b[38;5;241m=\u001b[39m pd\u001b[38;5;241m.\u001b[39mconcat([df, df1])    \n\u001b[0;32m     28\u001b[0m \u001b[38;5;28;01mif\u001b[39;00m city \u001b[38;5;241m==\u001b[39m \u001b[38;5;124m\"\u001b[39m\u001b[38;5;124mLondon\u001b[39m\u001b[38;5;124m\"\u001b[39m:\n\u001b[1;32m---> 29\u001b[0m     df\u001b[38;5;241m.\u001b[39mloc[\u001b[38;5;28mlen\u001b[39m(df)] \u001b[38;5;241m=\u001b[39m [\u001b[38;5;124m\"\u001b[39m\u001b[38;5;124mJessica\u001b[39m\u001b[38;5;124m'\u001b[39m\u001b[38;5;124ms Dog Grooming\u001b[39m\u001b[38;5;124m\"\u001b[39m, \u001b[38;5;124m\"\u001b[39m\u001b[38;5;124m51.5141844\u001b[39m\u001b[38;5;124m\"\u001b[39m, \u001b[38;5;124m\"\u001b[39m\u001b[38;5;124m-0.1863357\u001b[39m\u001b[38;5;124m\"\u001b[39m, \u001b[38;5;124m\"\u001b[39m\u001b[38;5;124mDog Grooming\u001b[39m\u001b[38;5;124m\"\u001b[39m, \u001b[38;5;241m1500.0\u001b[39m]\n\u001b[0;32m     31\u001b[0m df[\u001b[38;5;124m'\u001b[39m\u001b[38;5;124mcity\u001b[39m\u001b[38;5;124m'\u001b[39m] \u001b[38;5;241m=\u001b[39m city\n\u001b[0;32m     33\u001b[0m df\u001b[38;5;241m.\u001b[39mreset_index(drop\u001b[38;5;241m=\u001b[39m\u001b[38;5;28;01mTrue\u001b[39;00m, inplace\u001b[38;5;241m=\u001b[39m\u001b[38;5;28;01mTrue\u001b[39;00m)\n",
      "File \u001b[1;32m~\\miniconda3\\envs\\ironhack\\lib\\site-packages\\pandas\\core\\indexing.py:849\u001b[0m, in \u001b[0;36m_LocationIndexer.__setitem__\u001b[1;34m(self, key, value)\u001b[0m\n\u001b[0;32m    846\u001b[0m \u001b[38;5;28mself\u001b[39m\u001b[38;5;241m.\u001b[39m_has_valid_setitem_indexer(key)\n\u001b[0;32m    848\u001b[0m iloc \u001b[38;5;241m=\u001b[39m \u001b[38;5;28mself\u001b[39m \u001b[38;5;28;01mif\u001b[39;00m \u001b[38;5;28mself\u001b[39m\u001b[38;5;241m.\u001b[39mname \u001b[38;5;241m==\u001b[39m \u001b[38;5;124m\"\u001b[39m\u001b[38;5;124miloc\u001b[39m\u001b[38;5;124m\"\u001b[39m \u001b[38;5;28;01melse\u001b[39;00m \u001b[38;5;28mself\u001b[39m\u001b[38;5;241m.\u001b[39mobj\u001b[38;5;241m.\u001b[39miloc\n\u001b[1;32m--> 849\u001b[0m \u001b[43miloc\u001b[49m\u001b[38;5;241;43m.\u001b[39;49m\u001b[43m_setitem_with_indexer\u001b[49m\u001b[43m(\u001b[49m\u001b[43mindexer\u001b[49m\u001b[43m,\u001b[49m\u001b[43m \u001b[49m\u001b[43mvalue\u001b[49m\u001b[43m,\u001b[49m\u001b[43m \u001b[49m\u001b[38;5;28;43mself\u001b[39;49m\u001b[38;5;241;43m.\u001b[39;49m\u001b[43mname\u001b[49m\u001b[43m)\u001b[49m\n",
      "File \u001b[1;32m~\\miniconda3\\envs\\ironhack\\lib\\site-packages\\pandas\\core\\indexing.py:1818\u001b[0m, in \u001b[0;36m_iLocIndexer._setitem_with_indexer\u001b[1;34m(self, indexer, value, name)\u001b[0m\n\u001b[0;32m   1815\u001b[0m     indexer, missing \u001b[38;5;241m=\u001b[39m convert_missing_indexer(indexer)\n\u001b[0;32m   1817\u001b[0m     \u001b[38;5;28;01mif\u001b[39;00m missing:\n\u001b[1;32m-> 1818\u001b[0m         \u001b[38;5;28;43mself\u001b[39;49m\u001b[38;5;241;43m.\u001b[39;49m\u001b[43m_setitem_with_indexer_missing\u001b[49m\u001b[43m(\u001b[49m\u001b[43mindexer\u001b[49m\u001b[43m,\u001b[49m\u001b[43m \u001b[49m\u001b[43mvalue\u001b[49m\u001b[43m)\u001b[49m\n\u001b[0;32m   1819\u001b[0m         \u001b[38;5;28;01mreturn\u001b[39;00m\n\u001b[0;32m   1821\u001b[0m \u001b[38;5;28;01mif\u001b[39;00m name \u001b[38;5;241m==\u001b[39m \u001b[38;5;124m\"\u001b[39m\u001b[38;5;124mloc\u001b[39m\u001b[38;5;124m\"\u001b[39m:\n\u001b[0;32m   1822\u001b[0m     \u001b[38;5;66;03m# must come after setting of missing\u001b[39;00m\n",
      "File \u001b[1;32m~\\miniconda3\\envs\\ironhack\\lib\\site-packages\\pandas\\core\\indexing.py:2151\u001b[0m, in \u001b[0;36m_iLocIndexer._setitem_with_indexer_missing\u001b[1;34m(self, indexer, value)\u001b[0m\n\u001b[0;32m   2148\u001b[0m     \u001b[38;5;28;01mif\u001b[39;00m is_list_like_indexer(value):\n\u001b[0;32m   2149\u001b[0m         \u001b[38;5;66;03m# must have conforming columns\u001b[39;00m\n\u001b[0;32m   2150\u001b[0m         \u001b[38;5;28;01mif\u001b[39;00m \u001b[38;5;28mlen\u001b[39m(value) \u001b[38;5;241m!=\u001b[39m \u001b[38;5;28mlen\u001b[39m(\u001b[38;5;28mself\u001b[39m\u001b[38;5;241m.\u001b[39mobj\u001b[38;5;241m.\u001b[39mcolumns):\n\u001b[1;32m-> 2151\u001b[0m             \u001b[38;5;28;01mraise\u001b[39;00m \u001b[38;5;167;01mValueError\u001b[39;00m(\u001b[38;5;124m\"\u001b[39m\u001b[38;5;124mcannot set a row with mismatched columns\u001b[39m\u001b[38;5;124m\"\u001b[39m)\n\u001b[0;32m   2153\u001b[0m     value \u001b[38;5;241m=\u001b[39m Series(value, index\u001b[38;5;241m=\u001b[39m\u001b[38;5;28mself\u001b[39m\u001b[38;5;241m.\u001b[39mobj\u001b[38;5;241m.\u001b[39mcolumns, name\u001b[38;5;241m=\u001b[39mindexer)\n\u001b[0;32m   2155\u001b[0m \u001b[38;5;28;01mif\u001b[39;00m \u001b[38;5;129;01mnot\u001b[39;00m \u001b[38;5;28mlen\u001b[39m(\u001b[38;5;28mself\u001b[39m\u001b[38;5;241m.\u001b[39mobj):\n\u001b[0;32m   2156\u001b[0m     \u001b[38;5;66;03m# We will ignore the existing dtypes instead of using\u001b[39;00m\n\u001b[0;32m   2157\u001b[0m     \u001b[38;5;66;03m#  internals.concat logic\u001b[39;00m\n",
      "\u001b[1;31mValueError\u001b[0m: cannot set a row with mismatched columns"
     ]
    }
   ],
   "source": [
    "df_sf = pd.read_csv(\"../dataframes/df_sanfrancisco.csv\")\n",
    "df_sf = df_foursquare(df_sf, \"37.7968917\",\"-122.4032027\", \"San Francisco\") \n",
    "df_sf.to_csv(\"../dataframes/df_sanfrancisco.csv\", index=False)\n",
    "\n",
    "df_lon = pd.read_csv(\"../dataframes/df_london.csv\")\n",
    "df_lon = df_foursquare(df_lon, \"51.513248\",'-0.154738', \"London\")\n",
    "df_lon.to_csv(\"../dataframes/df_london.csv\", index=False)\n",
    "\n",
    "df_nyc = pd.read_csv(\"../dataframes/df_newyork.csv\")\n",
    "df_nyc = df_foursquare(df_nyc, '40.7398872','-73.9850319', \"New York\") \n",
    "df_nyc.to_csv(\"../dataframes/df_newyork.csv\", index=False)\n"
   ]
  },
  {
   "cell_type": "code",
   "execution_count": null,
   "id": "5e62f10e",
   "metadata": {},
   "outputs": [],
   "source": [
    "df_sf"
   ]
  },
  {
   "cell_type": "code",
   "execution_count": null,
   "id": "61dcb4ae",
   "metadata": {},
   "outputs": [],
   "source": [
    "df_lon"
   ]
  },
  {
   "cell_type": "code",
   "execution_count": null,
   "id": "5e3f01ff",
   "metadata": {},
   "outputs": [],
   "source": [
    "df_nyc"
   ]
  },
  {
   "cell_type": "code",
   "execution_count": null,
   "id": "e061bf48",
   "metadata": {},
   "outputs": [],
   "source": [
    "def best_locations_df(df_nyc, df_sf, df_lon):\n",
    "\n",
    "    dfs = (df_nyc, df_sf, df_lon)\n",
    "    cities = [\"New York\", \"San Francisco\", \"London\"]\n",
    "    data= [\"Airport\", \"Preschool\", \"Primary and Secondary School\", \"Train Station\", \"Night Clubs\", \"Vegan Restaurant\", \n",
    "          \"Basketball Stadium\", \"Starbucks\", \"Dog Grooming\"]\n",
    "\n",
    "    distance_dict= {}\n",
    "\n",
    "    for i in data:\n",
    "        distance_dict[i] = {}\n",
    "        for df, city in zip(dfs, cities):\n",
    "            distance_value = df.loc[df['data'] == i, 'distance'].values[0]\n",
    "            distance_dict[i][city] = distance_value\n",
    "\n",
    "    df = pd.DataFrame(distance_dict, index=[\"New York\", \"San Francisco\", \"London\"])\n",
    "    return df"
   ]
  },
  {
   "cell_type": "code",
   "execution_count": null,
   "id": "5ee3f603",
   "metadata": {},
   "outputs": [],
   "source": [
    "df=best_locations_df(df_nyc, df_sf, df_lon)"
   ]
  },
  {
   "cell_type": "code",
   "execution_count": null,
   "id": "00daacca",
   "metadata": {},
   "outputs": [],
   "source": [
    "def distance_locations_plot(df):\n",
    "\n",
    "    fig, ax = plt.subplots()\n",
    "\n",
    "    columns = [col for col in df.columns if col != 'Airport']\n",
    "    values = df.loc[:, columns].values\n",
    "\n",
    "    colors = ['#FFC107', '#FF4081', '#536DFE']  \n",
    "    bar_width = 0.25 \n",
    "\n",
    "    for i, city in enumerate(df.index):\n",
    "        pos = [j + bar_width*i for j in range(len(columns))]  # Posición de las barras\n",
    "        ax.bar(pos, values[i], width=bar_width, alpha=0.7, color=colors[i], label=city)\n",
    "\n",
    "    ax.legend()\n",
    "    ax.set_title('Distance between city locations and places',fontweight='bold')\n",
    "\n",
    "\n",
    "    ax.set_xticks([j + bar_width for j in range(len(columns))])\n",
    "    ax.set_xticklabels(columns, rotation=45, ha='right')\n",
    "    ax.set_ylabel('Distance (meters)')\n",
    "\n",
    "    plt.subplots_adjust(left=0.1, right=0.9, top=0.9, bottom=0.2)\n",
    "\n",
    "    plt.show()"
   ]
  },
  {
   "cell_type": "code",
   "execution_count": null,
   "id": "9cad3dbf",
   "metadata": {},
   "outputs": [],
   "source": [
    "distance_locations_plot(df)"
   ]
  },
  {
   "cell_type": "code",
   "execution_count": null,
   "id": "8ca03ff0",
   "metadata": {},
   "outputs": [],
   "source": [
    "def closest_distance_points(df):\n",
    "    for column in df.columns:\n",
    "        sorted_values = df[column].sort_values(ascending=False)\n",
    "        df[column] = df[column].apply(lambda x: 2 if x == sorted_values.iloc[0] else 1 if x == sorted_values.iloc[1] else 0)\n",
    "\n",
    "    return df"
   ]
  },
  {
   "cell_type": "code",
   "execution_count": null,
   "id": "ba179549",
   "metadata": {},
   "outputs": [],
   "source": [
    "df=closest_distance_points(df)"
   ]
  },
  {
   "cell_type": "code",
   "execution_count": null,
   "id": "254a1fa7",
   "metadata": {},
   "outputs": [],
   "source": [
    "def cities_grades_plot(df):\n",
    "\n",
    "    grade = ((df.sum(axis=1)/18)*9).round(1)\n",
    "\n",
    "    fig, ax = plt.subplots()\n",
    "\n",
    "    colors = ['#FFC107', '#FF4081', '#536DFE']\n",
    "    bar_width = 0.5  \n",
    "    ax.bar(grade.index, grade, width=bar_width, alpha=0.7, color=colors)\n",
    "\n",
    "    for i, val in enumerate(grade):\n",
    "        ax.text(i, val -1 , str(val), ha= \"center\",color='black', size=14)\n",
    "\n",
    "    ax.set_title(\"Best requirements per location\", fontsize=14, fontweight='bold')\n",
    "    ax.set_ylabel('Requirements (8 in total)', fontsize=12)\n",
    "\n",
    "    plt.subplots_adjust(left=0.1, right=0.9, top=0.9, bottom=0.2)\n",
    "\n",
    "    plt.show()"
   ]
  },
  {
   "cell_type": "code",
   "execution_count": null,
   "id": "2116481a",
   "metadata": {},
   "outputs": [],
   "source": [
    "cities_grades_plot(df)"
   ]
  },
  {
   "cell_type": "code",
   "execution_count": null,
   "id": "ee4910fa",
   "metadata": {},
   "outputs": [],
   "source": []
  },
  {
   "cell_type": "code",
   "execution_count": null,
   "id": "2cb9b4fe",
   "metadata": {},
   "outputs": [],
   "source": []
  }
 ],
 "metadata": {
  "kernelspec": {
   "display_name": "ironhack",
   "language": "python",
   "name": "ironhack"
  },
  "language_info": {
   "codemirror_mode": {
    "name": "ipython",
    "version": 3
   },
   "file_extension": ".py",
   "mimetype": "text/x-python",
   "name": "python",
   "nbconvert_exporter": "python",
   "pygments_lexer": "ipython3",
   "version": "3.10.9"
  }
 },
 "nbformat": 4,
 "nbformat_minor": 5
}
